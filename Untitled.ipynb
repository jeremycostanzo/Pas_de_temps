{
 "cells": [
  {
   "cell_type": "markdown",
   "metadata": {},
   "source": [
    "# Projet numérique : choix du pas de temps\n"
   ]
  },
  {
   "cell_type": "code",
   "execution_count": 10,
   "metadata": {},
   "outputs": [
    {
     "data": {
      "image/png": "[encoded data removed]",
      "text/plain": [
       "<Figure size 432x288 with 1 Axes>"
      ]
     },
     "metadata": {
      "needs_background": "light"
     },
     "output_type": "display_data"
    }
   ],
   "source": [
    "import math as m\n",
    "import numpy as np\n",
    "from matplotlib import pyplot as plt\n",
    "\n",
    "eps = 0.001\n",
    "J = [-10., 10.]\n",
    "def solve_euler_explicit(f, x0, dt, tf, t0 = 0):\n",
    "    t = [t0]\n",
    "    x1 = x0\n",
    "    x = [x1]\n",
    "    if t[-1] + dt > tf:\n",
    "        raise ValueError(\"le pas choisi est trop grand\")    #on veille à ne pas sortir de l'intervalle\n",
    "        return t, x\n",
    "    \n",
    "    while t[-1] < tf:           \n",
    "        x1 = x1 + dt * f(x1)\n",
    "        x.append(x1)\n",
    "        t.append(t[-1] + dt)\n",
    "    \n",
    "    return t, x\n",
    "\n",
    "def testons(x):\n",
    "    return x\n",
    "\n",
    "def solve_heun(f, x0, dt, tf, t0 = 0):\n",
    "    t = [t0]\n",
    "    x1 = x0\n",
    "    \n",
    "    if t[-1] + dt > tf:\n",
    "        raise ValueError(\"le pas choisi est trop grand\")\n",
    "        return t, [x1]\n",
    "    \n",
    "    else:\n",
    "        x2 = x1 + dt*f(x1)\n",
    "        x = [x1, x2]\n",
    "        t.append(t0 + dt)\n",
    "    \n",
    "    while t[-1] < tf:           #on résout l'équadif pour f dans l'intervalle J\n",
    "        x1, x2 = x2, x1 + (dt/2)*(f(x1) + f(x1 + dt*f(x1)))\n",
    "        x.append(x2)\n",
    "        t.append(t[-1] + dt)\n",
    "    \n",
    "    return t, x\n",
    "\n",
    "\n",
    " #vérifions que le schéma est convergent d'ordre 1\n",
    "\n",
    "def schema_ordre_un(eps1, eps2, tf, t0 = 0):\n",
    "    t, x = solve_euler_explicit(testons, 1, eps2, tf, t0)\n",
    "    y = [m.exp(s) for s in t]\n",
    "    l = np.linspace(eps1, eps2, 1000)\n",
    "    M = []\n",
    "    for i in l:\n",
    "        t, x = solve_euler_explicit(testons, 1, i, tf, t0)\n",
    "        y = [m.exp(s) for s in t]\n",
    "        f = [abs(a - b) for a, b in zip(x, y)]\n",
    "        M.append(max(f))\n",
    "    plt.plot(l, M)\n",
    "    plt.show()\n",
    "    return M\n",
    "\n",
    "def schema_ordre_deux(eps1, eps2, tf, t0 = 0):\n",
    "    t, x = solve_heun(testons, 1, eps2, tf, t0)\n",
    "    y = [m.exp(s) for s in t]\n",
    "    l = np.linspace(eps1, eps2, 1000)\n",
    "    M = []\n",
    "    for i in l:\n",
    "        t, x = solve_heun(testons, 1, i, tf, t0)\n",
    "        y = [m.exp(s) for s in t]\n",
    "        f = [abs(a - b) for a, b in zip(x, y)]\n",
    "        M.append(max(f))\n",
    "    plt.plot(l, M)\n",
    "    plt.show()\n",
    "    return M\n",
    "\n",
    "#ordre_un = schema_ordre_un(1, 0.001, 10., -10.)\n",
    "#ordre_deux = schema_ordre_deux(1, 0.001, 10., -10.)\n",
    "#plt.plot(np.linspace(1, 0.001, 1000), ordre_un)\n",
    "#plt.plot(np.linspace(1, 0.001, 1000), ordre_deux)\n",
    "t,x = solve_euler_explicit(testons,1,0.0001,3,0)\n",
    "plt.plot(t,x)\n",
    "plt.show()"
   ]
  }
 ],
 "metadata": {
  "kernelspec": {
   "display_name": "Python 3",
   "language": "python",
   "name": "python3"
  },
  "language_info": {
   "codemirror_mode": {
    "name": "ipython",
    "version": 3
   },
   "file_extension": ".py",
   "mimetype": "text/x-python",
   "name": "python",
   "nbconvert_exporter": "python",
   "pygments_lexer": "ipython3",
   "version": "3.6.3"
  }
 },
 "nbformat": 4,
 "nbformat_minor": 2
}
