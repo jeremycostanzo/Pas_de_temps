{
 "cells": [
  {
   "cell_type": "markdown",
   "metadata": {},
   "source": [
    "# Projet numérique : choix du pas de temps\n"
   ]
  },
  {
   "cell_type": "markdown",
   "metadata": {},
   "source": [
    "## Pas fixe"
   ]
  },
  {
   "cell_type": "markdown",
   "metadata": {},
   "source": [
    "### Implémentation d'un schéma d'ordre un et d'un schéma d'ordre deux"
   ]
  },
  {
   "cell_type": "markdown",
   "metadata": {},
   "source": [
    "On importe les modules nécessaires :"
   ]
  },
  {
   "cell_type": "code",
   "execution_count": 2,
   "metadata": {
    "collapsed": true
   },
   "outputs": [],
   "source": [
    "import math as m\n",
    "import numpy as np\n",
    "from matplotlib import pyplot as plt"
   ]
  },
  {
   "cell_type": "markdown",
   "metadata": {},
   "source": [
    "Voici l'implémentation du schéma d'Euler explicite :\n",
    "t contient les temps, et x contient les valeurs calculées de façon approchée : x[ j ] = $x^j$."
   ]
  },
  {
   "cell_type": "code",
   "execution_count": 3,
   "metadata": {
    "collapsed": true
   },
   "outputs": [],
   "source": [
    "def solve_euler_explicit(f, x0, dt, t0 = 0, tf = 1):\n",
    "    t = [t0] #t contient les temps\n",
    "    x1 = x0  #x contient les valeurs approchées : x[j] = xj\n",
    "    x = [x1]\n",
    "    if t[-1] + dt > tf:\n",
    "        raise ValueError(\"le pas choisi est trop grand\")\n",
    "        return t, x\n",
    "    \n",
    "    while t[-1] < tf: #Tant qu'on est dans l'intervalle des valeurs à calculer\n",
    "        x1 = x1 + dt * f(x1)\n",
    "        x.append(x1)\n",
    "        t.append(t[-1] + dt)\n",
    "    return t, x"
   ]
  },
  {
   "cell_type": "markdown",
   "metadata": {},
   "source": [
    "La fonction testons va nous permettre d'effectuer des tests sur une équation différentielle assez simple, dont on connait la solution."
   ]
  },
  {
   "cell_type": "code",
   "execution_count": 4,
   "metadata": {
    "collapsed": true
   },
   "outputs": [],
   "source": [
    "def testons(x):\n",
    "    return x"
   ]
  },
  {
   "cell_type": "markdown",
   "metadata": {},
   "source": [
    "On teste le schema d'ordre 1 avec l'exponentielle :"
   ]
  },
  {
   "cell_type": "code",
   "execution_count": 5,
   "metadata": {},
   "outputs": [
    {
     "data": {
      "image/png": "[encoded data removed]",
      "text/plain": [
       "<matplotlib.figure.Figure at 0x28035643be0>"
      ]
     },
     "metadata": {},
     "output_type": "display_data"
    }
   ],
   "source": [
    "t,x = solve_euler_explicit(testons, 0.1, 0.0001, 0, 3)\n",
    "plt.plot(t,x)\n",
    "plt.show()"
   ]
  },
  {
   "cell_type": "markdown",
   "metadata": {},
   "source": [
    "Le schéma d'ordre deux que nous avons implémenté est le schéma de Heun, de même que pour le schéma d'Euler explicite, t contient les temps, et x contient les valeurs calculées de façon approchée : x[ j ] = $x^j$."
   ]
  },
  {
   "cell_type": "code",
   "execution_count": 9,
   "metadata": {
    "collapsed": true
   },
   "outputs": [],
   "source": [
    "def solve_heun(f, x0, dt, t0 = 0, tf = 1):\n",
    "    t = [t0]\n",
    "    x1 = x0\n",
    "    x = [x1]\n",
    "    if t[-1] + dt > tf:\n",
    "        raise ValueError(\"le pas choisi est trop grand\")\n",
    "        return t, x\n",
    "    \n",
    "    while t[-1] < tf:\n",
    "        x1 = x1 + (dt/2) * (f(x1) + f(x1 + dt * f(x1)))\n",
    "        x.append(x1)\n",
    "        t.append(t[-1] + dt)\n",
    "    return t, x"
   ]
  },
  {
   "cell_type": "markdown",
   "metadata": {},
   "source": [
    "On teste le schéma d'ordre 2 de la même manière :"
   ]
  },
  {
   "cell_type": "code",
   "execution_count": 6,
   "metadata": {},
   "outputs": [
    {
     "data": {
      "image/png": "[encoded data removed]",
      "text/plain": [
       "<Figure size 432x288 with 1 Axes>"
      ]
     },
     "metadata": {
      "needs_background": "light"
     },
     "output_type": "display_data"
    }
   ],
   "source": [
    "t,x = solve_heun(testons, 0.1, 0.0001, 0, 3)\n",
    "plt.plot(t,x)\n",
    "plt.show()"
   ]
  },
  {
   "cell_type": "markdown",
   "metadata": {},
   "source": [
    "### Test de l'ordre de ces schémas"
   ]
  },
  {
   "cell_type": "markdown",
   "metadata": {},
   "source": [
    "Les fonctions suivantes permettent de dessiner max $\\lVert f - fc \\lVert = max \\{\\lvert f(t_j) - fc(t_j) \\lvert \\ | \\ t_j \\in [ t_0,t_f ]\\}$ en fonction du pas, où $f$ est la solution théorique et $fc$ est la solution calculée à partir du schéma.\n"
   ]
  },
  {
   "cell_type": "code",
   "execution_count": 6,
   "metadata": {
    "collapsed": true
   },
   "outputs": [],
   "source": [
    "#vérifions que le schéma est convergent d'ordre 1\n",
    "\n",
    "def schema_ordre_un(eps1, eps2, t0 = 0, tf = 1):\n",
    "    l = np.linspace(eps1, eps2, 1000)                      #on calcule ||f - fc|| pour les pas dans l  \n",
    "    M = []\n",
    "    for i in l:\n",
    "        t, x = solve_euler_explicit(testons, 1, i, t0, tf)  #calcul de fc\n",
    "        y = [m.exp(s) for s in t]                            #calcul de f\n",
    "        f = [abs(a - b) for a, b in zip(x, y)]\n",
    "        M.append(max(f))\n",
    "    return l, M\n",
    "\n",
    "#vérifions que le schéma est convergent d'ordre 1\n",
    "\n",
    "def schema_ordre_deux(eps1, eps2, t0 = 0, tf = 1):\n",
    "    l = np.linspace(eps1, eps2, 1000)\n",
    "    M = []\n",
    "    for i in l:\n",
    "        t, x = solve_heun(testons, 1, i, t0, tf)\n",
    "        y = [m.exp(s) for s in t]\n",
    "        f = [abs(a - b) for a, b in zip(x, y)]\n",
    "        M.append(max(f))\n",
    "    return l,M"
   ]
  },
  {
   "cell_type": "markdown",
   "metadata": {},
   "source": [
    "Voici le résultat pour le schéma d'ordre 1."
   ]
  },
  {
   "cell_type": "code",
   "execution_count": 7,
   "metadata": {
    "scrolled": true
   },
   "outputs": [
    {
     "data": {
      "image/png": "[encoded data removed]",
      "text/plain": [
       "<matplotlib.figure.Figure at 0x28035643898>"
      ]
     },
     "metadata": {},
     "output_type": "display_data"
    }
   ],
   "source": [
    "l,M = schema_ordre_un(0.001, 0.1, 0, 10)\n",
    "plt.plot(l,M)\n",
    "plt.show()"
   ]
  },
  {
   "cell_type": "markdown",
   "metadata": {},
   "source": [
    "Et voici le résultat pour le schéma de Heun"
   ]
  },
  {
   "cell_type": "code",
   "execution_count": 10,
   "metadata": {},
   "outputs": [
    {
     "data": {
      "image/png": "[encoded data removed]",
      "text/plain": [
       "<matplotlib.figure.Figure at 0x28035a53c18>"
      ]
     },
     "metadata": {},
     "output_type": "display_data"
    }
   ],
   "source": [
    "l,M = schema_ordre_deux(0.001, 0.1, 0, 10)\n",
    "plt.plot(l,M)\n",
    "plt.show()"
   ]
  },
  {
   "cell_type": "markdown",
   "metadata": {},
   "source": [
    "On observe bien sur ces graphiques que les deux schémas n'ont pas le même mode de convergence, la première courbe pourrait être aproximée par une droite tandis que la seconde pourrait être approximée par la fonction $ x \\longmapsto x^2$."
   ]
  },
  {
   "cell_type": "markdown",
   "metadata": {},
   "source": [
    "## Adaptation du pas de temps"
   ]
  },
  {
   "cell_type": "markdown",
   "metadata": {},
   "source": [
    "### Estimation de $e^{j+1}$"
   ]
  },
  {
   "cell_type": "markdown",
   "metadata": {},
   "source": [
    "Soit $\\tilde{x}$ la fonction qui vérifie $\\dot{\\tilde{x}}(s) = f(s, \\tilde{x}(s))$ et telle que $\\tilde{x}(t_{j}) = x^{j}$ sur l'intervalle J.\n",
    "\n",
    "On pose $e^{j+1} = \\tilde{x}(t_{j+1}) - x^{j+1} = (x^{j} + \\int_{t_{j}}^{t_{j+1}} f(s, \\tilde{x}(s)) ds)) - x^{j+1}$\n",
    "\n",
    "Supposons que $f$ est $C^{1}$. \n",
    "\n",
    "Montrons que pour le schéma d'Euler explicite : $\\lVert e^{j+1} \\lVert= \\Delta t_{j}  \\frac{\\lVert f(t_{j+1} , x^{j+1}) - f(t_{j}, x^{j}) \\rVert}{2} + o(\\Delta t^{2}_{j})$\n"
   ]
  },
  {
   "cell_type": "markdown",
   "metadata": {},
   "source": [
    "On fait un développement limité de $\\tilde{x}$ à l'ordre 2 au point $t_{j}$, qu'on évalue en $t_{j+1}$."
   ]
  },
  {
   "cell_type": "markdown",
   "metadata": {},
   "source": [
    "$\\tilde{x}(t_{j+1}) = x^{j} + (t_{j+1} - t_{j})f(t_{j}, \\tilde{x}(t_{j})) + \\frac{(t_{j+1} - t_{j})^{2}}{2} (\\partial_{t}f(t_{j}, \\tilde{x}(t_{j})) + \\partial_{x}f(t_{j}, \\tilde{x}(t_{j}))f(t_{j}, \\tilde{x}(t_{j})) + o((t_{j+1} - t_{j})^{2})$\n",
    "\n",
    "$\\tilde{x}(t_{j+1}) = x^{j} + \\Delta t_{j}f(t_{j}, x^{j}) + \\frac{\\Delta t_{j}^{2}}{2} (\\partial_{t}f(t_{j}, x^{j}) + \\partial_{x}f(t_{j}, x^{j})f(t_{j}, x^{j})) + o(\\Delta t_{j}^{2})$"
   ]
  },
  {
   "cell_type": "markdown",
   "metadata": {},
   "source": [
    "Puis on effectue un développement limité à l'ordre 1 de $t, x \\longmapsto f(t, x)$ au point $(t_{j},x^{j})$, évalué en $(t_{j+1}, x^{j+1})$.\n",
    "\n",
    "$f(t_{j+1}, x^{j+1}) = f(t_{j+1}, x^{j}) + \\partial_{t} f(t_{j}, x^{j})\\Delta t_{j} +  \\partial_{x}f(t_{j}, x^{j})(x^{j+1} - x^{j}) + o(x^{j+1} - x^{j})$\n",
    "\n",
    "On considère un schéma d'Euler explicite donc $x^{j+1} = x^{j} + \\Delta t_{j} f(t_{j}, x^{j}) $ \n",
    "\n",
    "De plus $f$ est $C^{1}$ sur un compact donc elle est bornée et atteint ses bornes, d'où :\n",
    "\n",
    "$f(t_{j+1}, x^{j+1}) = f(t_{j+1}, x^{j}) + \\Delta t_{j} f(t_{j}, x^{j})\\partial_{x}f(t_{j}, x^{j}) + o(\\Delta t_{j})$"
   ]
  },
  {
   "cell_type": "markdown",
   "metadata": {},
   "source": [
    "Ainsi $ e^{j+1} = \\Delta t_{j}  \\frac{f(t_{j+1}, x^{j+1}) - f(t_{j}, x^{j})}{2} + o(\\Delta t^{2}_{j})$\n",
    "\n",
    "On note $o(\\Delta t^{2}_{j}) = \\Delta t_{j}^2 \\epsilon(\\Delta t_{j})$ où $t \\longmapsto \\epsilon(t)$ est une fonction telle que $\\epsilon(t) \\rightarrow 0$ quand $t \\rightarrow 0$\n",
    "\n",
    "$\\lVert e^{j+1} \\lVert \\ = \\ \\lVert \\Delta t_{j}  \\frac{f(t_{j+1}, x^{j+1}) - f(t_{j}, x^{j})}{2} + \\Delta t_{j}^2 \\epsilon(\\Delta t_{j})) \\lVert \\ \\le \\ \\Delta t_{j} \\lVert \\frac{f(t_{j+1}, x^{j+1}) - f(t_{j}, x^{j})}{2}\\lVert + \\Delta t_{j}^2 \\lVert \\epsilon(\\Delta t_{j})) \\lVert$\n",
    "\n",
    "donc $\\lVert e^{j+1} \\lVert - \\Delta t_{j} \\frac{\\lVert f(t_{j+1}, x^{j+1}) - f(t_{j}, x^{j}) \\lVert}{2} \\ \\le \\ \\Delta t_{j}^2 \\lVert \\epsilon(\\Delta t_{j})) \\lVert$ \n",
    "\n",
    "On montre également $\\Delta t_{j} \\frac{\\lVert f(t_{j+1}, x^{j+1}) - f(t_{j}, x^{j}) \\lVert}{2} - \\lVert e^{j+1} \\lVert \\ \\le \\ \\Delta t_{j}^2 \\lVert \\epsilon(\\Delta t_{j})) \\lVert$\n",
    "\n",
    "donc $\\lVert e^{j+1} \\lVert - \\Delta t_{j} \\frac{\\lVert f(t_{j+1}, x^{j+1}) - f(t_{j}, x^{j}) \\lVert}{2} \\ = \\ o(\\Delta t_{j}^2)$\n",
    "\n",
    "D'où le résultat."
   ]
  },
  {
   "cell_type": "markdown",
   "metadata": {},
   "source": [
    "### Justification de la stratégie d'adaptation utilisée"
   ]
  },
  {
   "cell_type": "markdown",
   "metadata": {},
   "source": [
    "Par ailleurs $f$ est $C^{1}$ sur un compact (qu'on note J) donc par l'inégalité des accroissements finis, il existe $M > 0$ tel que pour tout $t, s \\in \\mathbf{R}, x, y \\in J$, $\\lVert f(t, x) - f(s, y) \\lVert \\le M d((t,x), (s,y))$. \n",
    "\n",
    "Donc $\\lVert f(t_{j+1}, x^{j+1}) - f(t_{j}, x^{j}) \\lVert \\le M d((t_{j+1}, x^{j+1}), (t_{j}, x^{j})) \\le M (\\Delta t_{j} + \\Vert x^{j+1} - x^{j} \\lVert) $ . Or $ x^{j+1} - x^{j} = \\Delta t_{j} f(t_{j}, x^{j})\\ $ où $\\ f(t_{j}, x^{j})$ ne dépend pas de $\\Delta t_{j}$. Donc $\\lVert f(t_{j+1}, x^{j+1}) - f(t_{j}, x^{j})\\lVert $  est un $O(\\Delta t_{j})$"
   ]
  },
  {
   "cell_type": "markdown",
   "metadata": {},
   "source": [
    "Ainsi $\\lVert e^{j+1} \\lVert = O(\\Delta t_{j}^2)$"
   ]
  },
  {
   "cell_type": "markdown",
   "metadata": {},
   "source": [
    "Nous voulons adapter le pas de temps de manière à ce que l'erreur entre la solution approchée et la solution réelle ne dépasse pas $Tol_{abs}$. Cette erreur est représentée par $\\lVert e^{j+1} \\lVert$ que l'on peut approximer grâce à la question 2. Si le pas que l'on a est suffisamment petit pour que l'erreur soit inférieure à $Tol_{abs}$, on peut l'augmenter de manière à améliorer le temps de calcul. Si au contraire l'erreur est supérieure à notre tolérance il faut diminuer le pas. De plus la relation ci-dessus nous indique que si l'on veut diviser l'erreur d'un facteur $n$, en ordre de grandeur il faut diviser le pas par $\\sqrt{n}$. \n",
    "\n",
    "Une possible stratégie d'adaptation consiste alors à prendre comme pas $\\Delta t_{j+1} = \\Delta t_{j} \\sqrt{\\frac{Tol_ {abs}}{\\lVert e^{j+1} \\lVert}}$."
   ]
  },
  {
   "cell_type": "markdown",
   "metadata": {},
   "source": [
    "### Explication et illustration du fonctionnement du Solveur"
   ]
  },
  {
   "cell_type": "markdown",
   "metadata": {},
   "source": [
    "Ci dessous le code fourni dans le notebook \"Equations Differentielles II.ipynb\" :"
   ]
  },
  {
   "cell_type": "code",
   "execution_count": 11,
   "metadata": {
    "collapsed": true
   },
   "outputs": [],
   "source": [
    "from mpl_toolkits.mplot3d import Axes3D\n",
    "from numpy import *\n",
    "from scipy.integrate import solve_ivp\n",
    "import matplotlib; \n",
    "from matplotlib.pyplot import *\n",
    "import seaborn as sns\n",
    "sns.set()\n",
    "%matplotlib notebook "
   ]
  },
  {
   "cell_type": "code",
   "execution_count": 14,
   "metadata": {
    "collapsed": true
   },
   "outputs": [],
   "source": [
    "def solve_ivp_euler_explicit_variable_step(f, t0, x0, t_f, dtmin = 1e-16, dtmax = 0.01, atol = 1e-6):\n",
    "    dt = dtmax/10; # initial integration step\n",
    "    ts, xs = [t0], [x0]  # storage variables\n",
    "    t = t0\n",
    "    ti = 0  # internal time keeping track of time since latest storage point : must remain below dtmax\n",
    "    x = x0\n",
    "    while ts[-1] < t_f:\n",
    "        while ti < dtmax:\n",
    "            t_next, ti_next, x_next = t + dt, ti + dt, x + dt * f(x)\n",
    "            x_back = x_next - dt * f(x_next)\n",
    "            ratio_abs_error = atol / (linalg.norm(x_back-x)/2)\n",
    "            dt = 0.9 * dt * sqrt(ratio_abs_error)\n",
    "            if dt < dtmin:\n",
    "                raise ValueError(\"Time step below minimum\")\n",
    "            elif dt > dtmax/2:\n",
    "                dt = dtmax/2\n",
    "            t, ti, x = t_next, ti_next, x_next\n",
    "        dt2DT = dtmax - ti # time left to dtmax\n",
    "        t_next, ti_next, x_next = t + dt2DT, 0, x + dt2DT * f(x)\n",
    "        ts = vstack([ts,t_next])\n",
    "        xs = vstack([xs,x_next])\n",
    "        t, ti, x = t_next, ti_next, x_next\n",
    "    return (ts, xs.T)"
   ]
  },
  {
   "cell_type": "markdown",
   "metadata": {},
   "source": [
    "Cet algorithme, comme le schéma d'Euler explicite, donne une solution approhée du problème de Cauchy $\\begin{cases} \\dot{x} = f(x) \\\\ x(t_0) = x_0 \\end{cases}$ sur l'intervalle $[ t_0, t_f ]$.\n",
    "\n",
    "Son fonctionnement est le suivant.\n",
    "\n",
    "dtmax est analogue à dt dans Euler explicite : en sortie de cet algorithme, on a ts[j+1] - ts[j] = dtmax. C'est un temps d'échantillonage.\n",
    "\n",
    "Mais cet algorithme est plus précis qu'Euler explicite, car il fait des calculs intermédiaires pour obtenir xs[j+1] à partir de xs[j], en adaptant le pas ti pour que pour tout point $x_i$ qu'il calcule entre xs[j] et xs[j+1], on ait dans la plupart des cas $\\lVert x_i - x[ts[j] + ti] \\lVert \\le atol$.\n",
    "\n",
    "Ainsi, on aura aussi : $\\lVert x_{j+1} - x[ts[j+1]] \\lVert \\le atol$\n",
    "\n",
    "ti représente le temps écoulé depuis le dernier temps où l'on a stocké un point. Lorsque celui-ci devient plus grand que $t_j + dtmax$, on revient en arrière jusqu'à $t_j + dtmax$, en utilisant dt2DT, qui est négatif.\n",
    "ratio_abs_error représente le facteur par lequel on multiplie $\\Delta t_j$ pour obtenir $\\Delta t_{j+1}$.\n",
    "\n",
    "En effet, si on note x le dernier point calculé, et $t_x$ le temps correspondant, on a : \n",
    "\n",
    "(x_back - x) / 2 = ((x_next - dt * f(x_next) - x) / 2 \n",
    "\n",
    "= dt * (f(x) - f(x_next)) / 2 \n",
    "\n",
    "= dt * (f(x) - f(x + dt * f(x)) / 2\n",
    "\n",
    "Ce qui est égal en norme à l'estimation que l'on avait obtenu pour la norme de l'erreur.\n"
   ]
  }
 ],
 "metadata": {
  "kernelspec": {
   "display_name": "Python 3",
   "language": "python",
   "name": "python3"
  },
  "language_info": {
   "codemirror_mode": {
    "name": "ipython",
    "version": 3
   },
   "file_extension": ".py",
   "mimetype": "text/x-python",
   "name": "python",
   "nbconvert_exporter": "python",
   "pygments_lexer": "ipython3",
   "version": "3.6.3"
  }
 },
 "nbformat": 4,
 "nbformat_minor": 2
}
