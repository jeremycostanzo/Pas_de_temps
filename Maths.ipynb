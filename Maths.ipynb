{
 "cells": [
  {
   "cell_type": "markdown",
   "metadata": {},
   "source": [
    "Soit $\\tilde{x}$ une fonction qui vérifie $\\dot{\\tilde{x}}(s) = f(s, \\tilde{x}(s))$ et telle que $\\tilde{x}(t_{j}) = x^{j}$.\n",
    "\n",
    "On pose $\\lVert e^{j+1}\\rVert = \\tilde{x}(t_{j+1}) - x^{j+1} = (x^{j} + \\int_{t_{j}}^{t_{j+1}} f(s, \\tilde{x}(s)) ds)) - x^{j+1}$\n",
    "\n",
    "Supposons que $f$ est $C^{1}$. Montrons que pour un schéma d'Euler explicite, $e^{j+1} = \\Delta t_{j}  \\frac{\\lVert f(t_{j+1}, x^{j+1}) - f(t_{j}, x^{j}) \\rVert}{2} + o(\\Delta t^{2}_{j})$\n"
   ]
  },
  {
   "cell_type": "markdown",
   "metadata": {},
   "source": [
    "On fait un développement limité de $\\tilde{x}$ à l'ordre 2 au point $t_{j}$, qu'on évalue en $t_{j+1}$."
   ]
  },
  {
   "cell_type": "markdown",
   "metadata": {},
   "source": [
    "$\\tilde{x}(t_{j+1}) = x^{j} + (t_{j+1} - t_{j})f(t_{j}, \\tilde{x}(t_{j})) + \\frac{(t_{j+1} - t_{j})^{2}}{2} (\\delta_{t}(t_{j}, \\tilde{x}(t_{j})) + f(t_{j}, \\tilde{x}(t_{j}))\\delta_{x}(t_{j}, \\tilde{x}(t_{j}))) + o((t_{j+1} - t_{j})^{2})$\n",
    "\n",
    "$\\tilde{x}(t_{j+1}) = x^{j} + \\Delta t_{j}f(t_{j}, x^{j}) + \\frac{\\Delta t_{j}^{2}}{2} (\\delta_{t}(t_{j}, x^{j}) + f(t_{j}, x^{j})\\delta_{x}(t_{j}, x^{j})) + o(\\Delta t_{j}^{2})$"
   ]
  },
  {
   "cell_type": "markdown",
   "metadata": {},
   "source": [
    "Puis on effectue un développement limité à l'ordre 1 de $x \\longmapsto f(t_{j+1}, x)$ au point $x^{j}$, évalué en $x^{j+1}$.\n",
    "\n",
    "$f(t_{j+1}, x^{j+1}) = f(t_{j+1}, x^{j}) + (x^{j+1} - x^{j})\\delta_{x}f(t_{j}, x^{j}) + o(x^{j+1} - x^{j})$\n",
    "\n",
    "On considère un schéma d'Euler explicite donc $x^{j+1} = x^{j} + \\Delta t_{j} f(t_{j}, x^{j}) $ \n",
    "\n",
    "De plus $f$ est $C^{1}$ sur un compact donc elle est bornée et atteint ses bornes, d'où :\n",
    "\n",
    "$f(t_{j+1}, x^{j+1}) = f(t_{j+1}, x^{j}) + \\Delta t_{j} f(t_{j}, x^{j})\\delta_{x}f(t_{j}, x^{j}) + o(\\Delta t_{j})$"
   ]
  },
  {
   "cell_type": "markdown",
   "metadata": {},
   "source": [
    "Ainsi $ e^{j+1} = \\Delta t_{j}  \\frac{f(t_{j+1}, x^{j+1}) - f(t_{j}, x^{j})}{2} + o(\\Delta t^{2}_{j})$\n",
    "\n",
    "On note $o(\\Delta t^{2}_{j}) = |\\Delta t_{j}|^2 \\epsilon(\\Delta t_{j})$ où $t \\longmapsto \\epsilon(t)$ est une fonction telle que $\\epsilon(t) \\rightarrow 0$ quand $t \\rightarrow 0$\n",
    "\n",
    "$\\lVert e^{j+1} \\lVert \\ = \\ \\lVert \\Delta t_{j}  \\frac{f(t_{j+1}, x^{j+1}) - f(t_{j}, x^{j})}{2} + \\Delta t_{j}^2 \\epsilon(\\Delta t_{j})) \\lVert \\ \\le \\ \\Delta t_{j} \\lVert \\frac{f(t_{j+1}, x^{j+1}) - f(t_{j}, x^{j})}{2}\\lVert + \\Delta t_{j}^2 \\lVert \\epsilon(\\Delta t_{j})) \\lVert$\n",
    "\n",
    "donc $\\lVert e^{j+1} \\lVert - \\Delta t_{j} \\frac{\\lVert f(t_{j+1}, x^{j+1}) - f(t_{j}, x^{j}) \\lVert}{2} \\ \\le \\ |\\Delta t_{j}|^2 \\lVert \\epsilon(\\Delta t_{j})) \\lVert$\n",
    "\n",
    "donc $\\lVert e^{j+1} \\lVert - \\Delta t_{j} \\frac{\\lVert f(t_{j+1}, x^{j+1}) - f(t_{j}, x^{j}) \\lVert}{2} \\ = \\ o(\\Delta t_{j}^2)$\n",
    "\n",
    "D'où le résultat."
   ]
  }
 ],
 "metadata": {
  "kernelspec": {
   "display_name": "Python 3",
   "language": "python",
   "name": "python3"
  },
  "language_info": {
   "codemirror_mode": {
    "name": "ipython",
    "version": 3
   },
   "file_extension": ".py",
   "mimetype": "text/x-python",
   "name": "python",
   "nbconvert_exporter": "python",
   "pygments_lexer": "ipython3",
   "version": "3.6.3"
  }
 },
 "nbformat": 4,
 "nbformat_minor": 2
}
